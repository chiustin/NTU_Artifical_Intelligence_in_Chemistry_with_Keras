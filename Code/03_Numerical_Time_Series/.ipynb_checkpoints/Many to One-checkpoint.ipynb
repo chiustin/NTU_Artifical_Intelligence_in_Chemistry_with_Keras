{
 "cells": [
  {
   "cell_type": "code",
   "execution_count": 1,
   "metadata": {},
   "outputs": [
    {
     "name": "stdout",
     "output_type": "stream",
     "text": [
      "             Date Time  p (mbar)  T (degC)  Tpot (K)  Tdew (degC)  rh (%)  \\\n",
      "0  01.01.2009 00:10:00    996.52     -8.02    265.40        -8.90    93.3   \n",
      "1  01.01.2009 00:20:00    996.57     -8.41    265.01        -9.28    93.4   \n",
      "2  01.01.2009 00:30:00    996.53     -8.51    264.91        -9.31    93.9   \n",
      "3  01.01.2009 00:40:00    996.51     -8.31    265.12        -9.07    94.2   \n",
      "4  01.01.2009 00:50:00    996.51     -8.27    265.15        -9.04    94.1   \n",
      "\n",
      "   VPmax (mbar)  VPact (mbar)  VPdef (mbar)  sh (g/kg)  H2OC (mmol/mol)  \\\n",
      "0          3.33          3.11          0.22       1.94             3.12   \n",
      "1          3.23          3.02          0.21       1.89             3.03   \n",
      "2          3.21          3.01          0.20       1.88             3.02   \n",
      "3          3.26          3.07          0.19       1.92             3.08   \n",
      "4          3.27          3.08          0.19       1.92             3.09   \n",
      "\n",
      "   rho (g/m**3)  wv (m/s)  max. wv (m/s)  wd (deg)  \n",
      "0       1307.75      1.03           1.75     152.3  \n",
      "1       1309.80      0.72           1.50     136.1  \n",
      "2       1310.24      0.19           0.63     171.6  \n",
      "3       1309.19      0.34           0.50     198.0  \n",
      "4       1309.00      0.32           0.63     214.3  \n"
     ]
    }
   ],
   "source": [
    "import pandas as pd\n",
    "df = pd.read_csv('temperature.csv')\n",
    "print(df.head())"
   ]
  },
  {
   "cell_type": "code",
   "execution_count": 2,
   "metadata": {},
   "outputs": [
    {
     "name": "stdout",
     "output_type": "stream",
     "text": [
      "    p (mbar)  T (degC)  Tpot (K)  Tdew (degC)    rh (%)  VPmax (mbar)  \\\n",
      "0   0.900080 -1.931243 -1.982008    -1.862774  1.073091     -1.307358   \n",
      "6   0.897721 -1.886062 -1.936218    -1.779038  1.162756     -1.293054   \n",
      "12  0.913050 -2.024996 -2.074707    -1.974423  1.085046     -1.334667   \n",
      "18  0.941348 -2.023866 -2.075824    -1.973027  1.085046     -1.333367   \n",
      "24  0.962572 -2.067919 -2.121614    -2.051181  1.007336     -1.346371   \n",
      "\n",
      "    VPact (mbar)  VPdef (mbar)  sh (g/kg)  H2OC (mmol/mol)  rho (g/m**3)  \\\n",
      "0      -1.473784     -0.798768  -1.476283        -1.478172      2.123687   \n",
      "6      -1.438047     -0.807030  -1.438763        -1.442890      2.074970   \n",
      "12     -1.519050     -0.802899  -1.521308        -1.522864      2.226299   \n",
      "18     -1.519050     -0.802899  -1.517556        -1.522864      2.232418   \n",
      "24     -1.550021     -0.794637  -1.551324        -1.553442      2.285372   \n",
      "\n",
      "    wv (m/s)  max. wv (m/s)  wd (deg)  \n",
      "0  -0.727723      -0.779684 -0.277693  \n",
      "6  -1.281252      -1.260773 -0.114206  \n",
      "12 -1.294276      -1.316614 -0.208614  \n",
      "18 -1.352885      -1.424000 -0.542494  \n",
      "24 -1.333349      -1.368159  0.316385  \n"
     ]
    }
   ],
   "source": [
    "df = df.iloc[:200000:6]\n",
    "df = df.drop(columns=['Date Time'])\n",
    "\n",
    "mean = df.mean()\n",
    "std = df.std()\n",
    "df = (df-mean)/std\n",
    "\n",
    "print(df.head())"
   ]
  },
  {
   "cell_type": "code",
   "execution_count": 3,
   "metadata": {},
   "outputs": [
    {
     "name": "stdout",
     "output_type": "stream",
     "text": [
      "(33303, 30, 14) (33303, 1)\n"
     ]
    }
   ],
   "source": [
    "import numpy as np\n",
    "\n",
    "pastDay=30\n",
    "futureDay=1\n",
    "\n",
    "X, y = [], []\n",
    "for i in range(df.shape[0]-futureDay-pastDay):\n",
    "    X.append(np.array(df.iloc[i:i+pastDay]))\n",
    "    y.append(np.array(df.iloc[i+pastDay:i+pastDay+futureDay][\"T (degC)\"]))\n",
    "\n",
    "X, y = np.array(X), np.array(y)\n",
    "print(X.shape, y.shape)"
   ]
  },
  {
   "cell_type": "code",
   "execution_count": 4,
   "metadata": {},
   "outputs": [
    {
     "name": "stdout",
     "output_type": "stream",
     "text": [
      "(29972, 30, 14) (3331, 30, 14) (29972, 1) (3331, 1)\n"
     ]
    }
   ],
   "source": [
    "from sklearn.model_selection import train_test_split\n",
    "X_train, X_test, y_train, y_test = train_test_split(X, y, test_size=.1, random_state=1)\n",
    "print(X_train.shape, X_test.shape, y_train.shape, y_test.shape)"
   ]
  },
  {
   "cell_type": "code",
   "execution_count": 5,
   "metadata": {},
   "outputs": [
    {
     "name": "stderr",
     "output_type": "stream",
     "text": [
      "Using TensorFlow backend.\n"
     ]
    }
   ],
   "source": [
    "import tensorflow as tf\n",
    "from keras.backend.tensorflow_backend import set_session\n",
    "config = tf.compat.v1.ConfigProto()\n",
    "config.gpu_options.allocator_type = 'BFC' #A \"Best-fit with coalescing\" algorithm, simplified from a version of dlmalloc.\n",
    "config.gpu_options.per_process_gpu_memory_fraction = 0.8\n",
    "config.gpu_options.allow_growth =True\n",
    "\n",
    "#set_session(tf.compat.v1.Session(config=config)) \n",
    "tf.compat.v1.keras.backend.set_session(tf.compat.v1.Session(config=config))"
   ]
  },
  {
   "cell_type": "code",
   "execution_count": 6,
   "metadata": {},
   "outputs": [
    {
     "name": "stderr",
     "output_type": "stream",
     "text": [
      "C:\\Users\\PPCC\\anaconda3\\envs\\my-rdkit-env\\lib\\site-packages\\ipykernel_launcher.py:6: UserWarning: The `input_dim` and `input_length` arguments in recurrent layers are deprecated. Use `input_shape` instead.\n",
      "  \n",
      "C:\\Users\\PPCC\\anaconda3\\envs\\my-rdkit-env\\lib\\site-packages\\ipykernel_launcher.py:6: UserWarning: Update your `LSTM` call to the Keras 2 API: `LSTM(10, return_sequences=False, input_shape=(30, 14))`\n",
      "  \n"
     ]
    },
    {
     "name": "stdout",
     "output_type": "stream",
     "text": [
      "Model: \"sequential_1\"\n",
      "_________________________________________________________________\n",
      "Layer (type)                 Output Shape              Param #   \n",
      "=================================================================\n",
      "lstm_1 (LSTM)                (None, 10)                1000      \n",
      "_________________________________________________________________\n",
      "dense_1 (Dense)              (None, 1)                 11        \n",
      "=================================================================\n",
      "Total params: 1,011\n",
      "Trainable params: 1,011\n",
      "Non-trainable params: 0\n",
      "_________________________________________________________________\n"
     ]
    }
   ],
   "source": [
    "from keras.models import Sequential\n",
    "from keras.layers import Dense, LSTM, TimeDistributed\n",
    "from keras.callbacks import EarlyStopping\n",
    "\n",
    "model = Sequential()\n",
    "model.add(LSTM(10, input_shape=(X_train.shape[1], X_train.shape[2]),return_sequences=False))\n",
    "model.add(Dense(1))\n",
    "model.summary()"
   ]
  },
  {
   "cell_type": "code",
   "execution_count": 7,
   "metadata": {},
   "outputs": [
    {
     "name": "stdout",
     "output_type": "stream",
     "text": [
      "Train on 26974 samples, validate on 2998 samples\n",
      "Epoch 1/1000\n",
      "26974/26974 [==============================] - 6s 232us/step - loss: 0.1940 - val_loss: 0.0534\n",
      "Epoch 2/1000\n",
      "26974/26974 [==============================] - 6s 209us/step - loss: 0.0375 - val_loss: 0.0299\n",
      "Epoch 3/1000\n",
      "26974/26974 [==============================] - 6s 213us/step - loss: 0.0237 - val_loss: 0.0212\n",
      "Epoch 4/1000\n",
      "26974/26974 [==============================] - 6s 216us/step - loss: 0.0178 - val_loss: 0.0165\n",
      "Epoch 5/1000\n",
      "26974/26974 [==============================] - 6s 217us/step - loss: 0.0145 - val_loss: 0.0139\n",
      "Epoch 6/1000\n",
      "26974/26974 [==============================] - 6s 210us/step - loss: 0.0125 - val_loss: 0.0123\n",
      "Epoch 7/1000\n",
      "26974/26974 [==============================] - 6s 216us/step - loss: 0.0112 - val_loss: 0.0113\n",
      "Epoch 8/1000\n",
      "26974/26974 [==============================] - 6s 216us/step - loss: 0.0104 - val_loss: 0.0104\n",
      "Epoch 9/1000\n",
      "26974/26974 [==============================] - 6s 205us/step - loss: 0.0097 - val_loss: 0.0099\n",
      "Epoch 10/1000\n",
      "26974/26974 [==============================] - 6s 206us/step - loss: 0.0093 - val_loss: 0.0094\n",
      "Epoch 11/1000\n",
      "26974/26974 [==============================] - 6s 208us/step - loss: 0.0089 - val_loss: 0.0091\n",
      "Epoch 12/1000\n",
      "26974/26974 [==============================] - 6s 210us/step - loss: 0.0086 - val_loss: 0.0088\n",
      "Epoch 13/1000\n",
      "26974/26974 [==============================] - 6s 219us/step - loss: 0.0084 - val_loss: 0.0086\n",
      "Epoch 14/1000\n",
      "26974/26974 [==============================] - 6s 214us/step - loss: 0.0082 - val_loss: 0.0084\n",
      "Epoch 15/1000\n",
      "26974/26974 [==============================] - 6s 217us/step - loss: 0.0081 - val_loss: 0.0083\n",
      "Epoch 16/1000\n",
      "26974/26974 [==============================] - 6s 217us/step - loss: 0.0080 - val_loss: 0.0082\n",
      "Epoch 17/1000\n",
      "26974/26974 [==============================] - 6s 212us/step - loss: 0.0079 - val_loss: 0.0081\n",
      "Epoch 18/1000\n",
      "26974/26974 [==============================] - 6s 213us/step - loss: 0.0078 - val_loss: 0.0080\n",
      "Epoch 19/1000\n",
      "26974/26974 [==============================] - 6s 208us/step - loss: 0.0077 - val_loss: 0.0078\n",
      "Epoch 20/1000\n",
      "26974/26974 [==============================] - 6s 214us/step - loss: 0.0077 - val_loss: 0.0079\n",
      "Epoch 21/1000\n",
      "26974/26974 [==============================] - 6s 211us/step - loss: 0.0076 - val_loss: 0.0077\n",
      "Epoch 22/1000\n",
      "26974/26974 [==============================] - 6s 219us/step - loss: 0.0076 - val_loss: 0.0079\n",
      "Epoch 23/1000\n",
      "26974/26974 [==============================] - 6s 207us/step - loss: 0.0075 - val_loss: 0.0076\n",
      "Epoch 24/1000\n",
      "26974/26974 [==============================] - 6s 208us/step - loss: 0.0074 - val_loss: 0.0075\n",
      "Epoch 25/1000\n",
      "26974/26974 [==============================] - 6s 216us/step - loss: 0.0074 - val_loss: 0.0079\n",
      "Epoch 26/1000\n",
      "26974/26974 [==============================] - 6s 211us/step - loss: 0.0074 - val_loss: 0.0075\n",
      "Epoch 27/1000\n",
      "26974/26974 [==============================] - 6s 212us/step - loss: 0.0073 - val_loss: 0.0074\n",
      "Epoch 28/1000\n",
      "26974/26974 [==============================] - 6s 211us/step - loss: 0.0073 - val_loss: 0.0074\n",
      "Epoch 29/1000\n",
      "26974/26974 [==============================] - 6s 212us/step - loss: 0.0072 - val_loss: 0.0075\n",
      "Epoch 30/1000\n",
      "26974/26974 [==============================] - 6s 219us/step - loss: 0.0072 - val_loss: 0.0073\n",
      "Epoch 31/1000\n",
      "26974/26974 [==============================] - 6s 214us/step - loss: 0.0071 - val_loss: 0.0074\n",
      "Epoch 32/1000\n",
      "26974/26974 [==============================] - 6s 208us/step - loss: 0.0071 - val_loss: 0.0072\n",
      "Epoch 33/1000\n",
      "26974/26974 [==============================] - 6s 210us/step - loss: 0.0071 - val_loss: 0.0072\n",
      "Epoch 34/1000\n",
      "26974/26974 [==============================] - 6s 207us/step - loss: 0.0070 - val_loss: 0.0074\n",
      "Epoch 35/1000\n",
      "26974/26974 [==============================] - 6s 209us/step - loss: 0.0070 - val_loss: 0.0074\n",
      "Epoch 36/1000\n",
      "26974/26974 [==============================] - 6s 218us/step - loss: 0.0069 - val_loss: 0.0072\n",
      "Epoch 37/1000\n",
      "26974/26974 [==============================] - 6s 211us/step - loss: 0.0069 - val_loss: 0.0072\n",
      "Epoch 38/1000\n",
      "26974/26974 [==============================] - 6s 209us/step - loss: 0.0069 - val_loss: 0.0071\n",
      "Epoch 39/1000\n",
      "26974/26974 [==============================] - 6s 211us/step - loss: 0.0068 - val_loss: 0.0071\n",
      "Epoch 40/1000\n",
      "26974/26974 [==============================] - 6s 208us/step - loss: 0.0069 - val_loss: 0.0071\n",
      "Epoch 41/1000\n",
      "26974/26974 [==============================] - 6s 209us/step - loss: 0.0068 - val_loss: 0.0070\n",
      "Epoch 42/1000\n",
      "26974/26974 [==============================] - 6s 213us/step - loss: 0.0068 - val_loss: 0.0069\n",
      "Epoch 43/1000\n",
      "26974/26974 [==============================] - 5s 203us/step - loss: 0.0067 - val_loss: 0.0069\n",
      "Epoch 44/1000\n",
      "26974/26974 [==============================] - 6s 214us/step - loss: 0.0067 - val_loss: 0.0069\n",
      "Epoch 45/1000\n",
      "26974/26974 [==============================] - 6s 207us/step - loss: 0.0067 - val_loss: 0.0070\n",
      "Epoch 46/1000\n",
      "26974/26974 [==============================] - 6s 209us/step - loss: 0.0067 - val_loss: 0.0069\n",
      "Epoch 47/1000\n",
      "26974/26974 [==============================] - 6s 211us/step - loss: 0.0067 - val_loss: 0.0070\n",
      "Epoch 48/1000\n",
      "26974/26974 [==============================] - 6s 212us/step - loss: 0.0067 - val_loss: 0.0069\n",
      "Epoch 49/1000\n",
      "26974/26974 [==============================] - 6s 235us/step - loss: 0.0067 - val_loss: 0.0068\n",
      "Epoch 50/1000\n",
      "26974/26974 [==============================] - 6s 235us/step - loss: 0.0066 - val_loss: 0.0068\n",
      "Epoch 51/1000\n",
      "26974/26974 [==============================] - 6s 231us/step - loss: 0.0066 - val_loss: 0.0068\n",
      "Epoch 52/1000\n",
      "26974/26974 [==============================] - 6s 210us/step - loss: 0.0067 - val_loss: 0.0069\n",
      "Epoch 53/1000\n",
      "26974/26974 [==============================] - 6s 214us/step - loss: 0.0066 - val_loss: 0.0067\n",
      "Epoch 54/1000\n",
      "26974/26974 [==============================] - 6s 216us/step - loss: 0.0066 - val_loss: 0.0067\n",
      "Epoch 55/1000\n",
      "26974/26974 [==============================] - 6s 219us/step - loss: 0.0066 - val_loss: 0.0068\n",
      "Epoch 56/1000\n",
      "26974/26974 [==============================] - 6s 210us/step - loss: 0.0066 - val_loss: 0.0068\n",
      "Epoch 57/1000\n",
      "26974/26974 [==============================] - 6s 217us/step - loss: 0.0066 - val_loss: 0.0068\n",
      "Epoch 58/1000\n",
      "26974/26974 [==============================] - 6s 211us/step - loss: 0.0066 - val_loss: 0.0067\n",
      "Epoch 59/1000\n",
      "26974/26974 [==============================] - 6s 209us/step - loss: 0.0066 - val_loss: 0.0069\n",
      "Epoch 60/1000\n",
      "26974/26974 [==============================] - 6s 211us/step - loss: 0.0065 - val_loss: 0.0068\n",
      "Epoch 61/1000\n",
      "26974/26974 [==============================] - 6s 218us/step - loss: 0.0066 - val_loss: 0.0070\n",
      "Epoch 62/1000\n",
      "26974/26974 [==============================] - 6s 215us/step - loss: 0.0066 - val_loss: 0.0067\n",
      "Epoch 63/1000\n",
      "26974/26974 [==============================] - 6s 208us/step - loss: 0.0065 - val_loss: 0.0067\n",
      "Epoch 64/1000\n",
      "26974/26974 [==============================] - 6s 210us/step - loss: 0.0065 - val_loss: 0.0069\n",
      "Epoch 65/1000\n",
      "26974/26974 [==============================] - 6s 211us/step - loss: 0.0065 - val_loss: 0.0069\n",
      "Epoch 66/1000\n",
      "26974/26974 [==============================] - 6s 217us/step - loss: 0.0065 - val_loss: 0.0067\n",
      "Epoch 67/1000\n",
      "26974/26974 [==============================] - 6s 210us/step - loss: 0.0065 - val_loss: 0.0067\n",
      "Epoch 68/1000\n",
      "26974/26974 [==============================] - 6s 212us/step - loss: 0.0066 - val_loss: 0.0067\n",
      "Epoch 69/1000\n",
      "26974/26974 [==============================] - 6s 209us/step - loss: 0.0065 - val_loss: 0.0066\n",
      "Epoch 70/1000\n",
      "26974/26974 [==============================] - 6s 208us/step - loss: 0.0065 - val_loss: 0.0067\n",
      "Epoch 71/1000\n",
      "26974/26974 [==============================] - 6s 211us/step - loss: 0.0065 - val_loss: 0.0066\n",
      "Epoch 72/1000\n",
      "26974/26974 [==============================] - 6s 227us/step - loss: 0.0065 - val_loss: 0.0068\n",
      "Epoch 73/1000\n",
      "26974/26974 [==============================] - 6s 208us/step - loss: 0.0065 - val_loss: 0.0066\n",
      "Epoch 74/1000\n",
      "26974/26974 [==============================] - 6s 212us/step - loss: 0.0065 - val_loss: 0.0067\n",
      "Epoch 75/1000\n",
      "26974/26974 [==============================] - 6s 217us/step - loss: 0.0065 - val_loss: 0.0067\n"
     ]
    },
    {
     "name": "stdout",
     "output_type": "stream",
     "text": [
      "Epoch 76/1000\n",
      "26974/26974 [==============================] - 6s 216us/step - loss: 0.0065 - val_loss: 0.0067\n",
      "Epoch 77/1000\n",
      "26974/26974 [==============================] - 6s 215us/step - loss: 0.0065 - val_loss: 0.0066\n",
      "Epoch 78/1000\n",
      "26974/26974 [==============================] - 6s 223us/step - loss: 0.0065 - val_loss: 0.0067\n",
      "Epoch 79/1000\n",
      "26974/26974 [==============================] - 6s 212us/step - loss: 0.0065 - val_loss: 0.0066\n",
      "Epoch 80/1000\n",
      "26974/26974 [==============================] - 6s 216us/step - loss: 0.0064 - val_loss: 0.0066\n",
      "Epoch 81/1000\n",
      "26974/26974 [==============================] - 6s 212us/step - loss: 0.0064 - val_loss: 0.0066\n",
      "Epoch 82/1000\n",
      "26974/26974 [==============================] - 6s 210us/step - loss: 0.0065 - val_loss: 0.0067\n",
      "Epoch 83/1000\n",
      "26974/26974 [==============================] - 6s 206us/step - loss: 0.0064 - val_loss: 0.0069\n",
      "Epoch 84/1000\n",
      "26974/26974 [==============================] - 6s 213us/step - loss: 0.0064 - val_loss: 0.0069\n",
      "Epoch 85/1000\n",
      "26974/26974 [==============================] - 6s 211us/step - loss: 0.0064 - val_loss: 0.0067\n",
      "Epoch 86/1000\n",
      "26974/26974 [==============================] - 6s 216us/step - loss: 0.0065 - val_loss: 0.0068\n",
      "Epoch 87/1000\n",
      "26974/26974 [==============================] - 6s 211us/step - loss: 0.0064 - val_loss: 0.0067\n",
      "Epoch 88/1000\n",
      "26974/26974 [==============================] - 6s 210us/step - loss: 0.0064 - val_loss: 0.0067\n",
      "Epoch 89/1000\n",
      "26974/26974 [==============================] - 6s 212us/step - loss: 0.0064 - val_loss: 0.0066\n",
      "Epoch 90/1000\n",
      "26974/26974 [==============================] - 6s 210us/step - loss: 0.0064 - val_loss: 0.0066\n",
      "Epoch 91/1000\n",
      "26974/26974 [==============================] - 6s 215us/step - loss: 0.0064 - val_loss: 0.0067\n",
      "Epoch 92/1000\n",
      "26974/26974 [==============================] - 6s 217us/step - loss: 0.0064 - val_loss: 0.0066\n",
      "Epoch 93/1000\n",
      "26974/26974 [==============================] - 6s 215us/step - loss: 0.0064 - val_loss: 0.0066\n",
      "Epoch 94/1000\n",
      "26974/26974 [==============================] - 6s 214us/step - loss: 0.0064 - val_loss: 0.0066\n",
      "Epoch 95/1000\n",
      "26974/26974 [==============================] - 6s 212us/step - loss: 0.0063 - val_loss: 0.0066\n",
      "Epoch 96/1000\n",
      "15232/26974 [===============>..............] - ETA: 2s - loss: 0.0064"
     ]
    },
    {
     "ename": "KeyboardInterrupt",
     "evalue": "",
     "output_type": "error",
     "traceback": [
      "\u001b[1;31m---------------------------------------------------------------------------\u001b[0m",
      "\u001b[1;31mKeyboardInterrupt\u001b[0m                         Traceback (most recent call last)",
      "\u001b[1;32m<ipython-input-7-e01df1f8fc95>\u001b[0m in \u001b[0;36m<module>\u001b[1;34m\u001b[0m\n\u001b[0;32m      1\u001b[0m \u001b[0mmodel\u001b[0m\u001b[1;33m.\u001b[0m\u001b[0mcompile\u001b[0m\u001b[1;33m(\u001b[0m\u001b[0mloss\u001b[0m\u001b[1;33m=\u001b[0m\u001b[1;34m\"mse\"\u001b[0m\u001b[1;33m,\u001b[0m \u001b[0moptimizer\u001b[0m\u001b[1;33m=\u001b[0m\u001b[1;34m\"adam\"\u001b[0m\u001b[1;33m)\u001b[0m\u001b[1;33m\u001b[0m\u001b[1;33m\u001b[0m\u001b[0m\n\u001b[0;32m      2\u001b[0m \u001b[0mcallback\u001b[0m \u001b[1;33m=\u001b[0m \u001b[0mEarlyStopping\u001b[0m\u001b[1;33m(\u001b[0m\u001b[0mmonitor\u001b[0m\u001b[1;33m=\u001b[0m\u001b[1;34m\"loss\"\u001b[0m\u001b[1;33m,\u001b[0m \u001b[0mpatience\u001b[0m\u001b[1;33m=\u001b[0m\u001b[1;36m10\u001b[0m\u001b[1;33m,\u001b[0m \u001b[0mverbose\u001b[0m\u001b[1;33m=\u001b[0m\u001b[1;36m1\u001b[0m\u001b[1;33m,\u001b[0m \u001b[0mmode\u001b[0m\u001b[1;33m=\u001b[0m\u001b[1;34m\"auto\"\u001b[0m\u001b[1;33m)\u001b[0m\u001b[1;33m\u001b[0m\u001b[1;33m\u001b[0m\u001b[0m\n\u001b[1;32m----> 3\u001b[1;33m \u001b[0mhistory\u001b[0m \u001b[1;33m=\u001b[0m \u001b[0mmodel\u001b[0m\u001b[1;33m.\u001b[0m\u001b[0mfit\u001b[0m\u001b[1;33m(\u001b[0m\u001b[0mX_train\u001b[0m\u001b[1;33m,\u001b[0m \u001b[0my_train\u001b[0m\u001b[1;33m,\u001b[0m \u001b[0mepochs\u001b[0m\u001b[1;33m=\u001b[0m\u001b[1;36m1000\u001b[0m\u001b[1;33m,\u001b[0m \u001b[0mbatch_size\u001b[0m\u001b[1;33m=\u001b[0m\u001b[1;36m128\u001b[0m\u001b[1;33m,\u001b[0m \u001b[0mvalidation_split\u001b[0m\u001b[1;33m=\u001b[0m\u001b[1;36m0.1\u001b[0m\u001b[1;33m,\u001b[0m \u001b[0mcallbacks\u001b[0m\u001b[1;33m=\u001b[0m\u001b[1;33m[\u001b[0m\u001b[0mcallback\u001b[0m\u001b[1;33m]\u001b[0m\u001b[1;33m)\u001b[0m\u001b[1;33m\u001b[0m\u001b[1;33m\u001b[0m\u001b[0m\n\u001b[0m",
      "\u001b[1;32m~\\anaconda3\\envs\\my-rdkit-env\\lib\\site-packages\\keras\\engine\\training.py\u001b[0m in \u001b[0;36mfit\u001b[1;34m(self, x, y, batch_size, epochs, verbose, callbacks, validation_split, validation_data, shuffle, class_weight, sample_weight, initial_epoch, steps_per_epoch, validation_steps, validation_freq, max_queue_size, workers, use_multiprocessing, **kwargs)\u001b[0m\n\u001b[0;32m   1237\u001b[0m                                         \u001b[0msteps_per_epoch\u001b[0m\u001b[1;33m=\u001b[0m\u001b[0msteps_per_epoch\u001b[0m\u001b[1;33m,\u001b[0m\u001b[1;33m\u001b[0m\u001b[1;33m\u001b[0m\u001b[0m\n\u001b[0;32m   1238\u001b[0m                                         \u001b[0mvalidation_steps\u001b[0m\u001b[1;33m=\u001b[0m\u001b[0mvalidation_steps\u001b[0m\u001b[1;33m,\u001b[0m\u001b[1;33m\u001b[0m\u001b[1;33m\u001b[0m\u001b[0m\n\u001b[1;32m-> 1239\u001b[1;33m                                         validation_freq=validation_freq)\n\u001b[0m\u001b[0;32m   1240\u001b[0m \u001b[1;33m\u001b[0m\u001b[0m\n\u001b[0;32m   1241\u001b[0m     def evaluate(self,\n",
      "\u001b[1;32m~\\anaconda3\\envs\\my-rdkit-env\\lib\\site-packages\\keras\\engine\\training_arrays.py\u001b[0m in \u001b[0;36mfit_loop\u001b[1;34m(model, fit_function, fit_inputs, out_labels, batch_size, epochs, verbose, callbacks, val_function, val_inputs, shuffle, initial_epoch, steps_per_epoch, validation_steps, validation_freq)\u001b[0m\n\u001b[0;32m    194\u001b[0m                     \u001b[0mins_batch\u001b[0m\u001b[1;33m[\u001b[0m\u001b[0mi\u001b[0m\u001b[1;33m]\u001b[0m \u001b[1;33m=\u001b[0m \u001b[0mins_batch\u001b[0m\u001b[1;33m[\u001b[0m\u001b[0mi\u001b[0m\u001b[1;33m]\u001b[0m\u001b[1;33m.\u001b[0m\u001b[0mtoarray\u001b[0m\u001b[1;33m(\u001b[0m\u001b[1;33m)\u001b[0m\u001b[1;33m\u001b[0m\u001b[1;33m\u001b[0m\u001b[0m\n\u001b[0;32m    195\u001b[0m \u001b[1;33m\u001b[0m\u001b[0m\n\u001b[1;32m--> 196\u001b[1;33m                 \u001b[0mouts\u001b[0m \u001b[1;33m=\u001b[0m \u001b[0mfit_function\u001b[0m\u001b[1;33m(\u001b[0m\u001b[0mins_batch\u001b[0m\u001b[1;33m)\u001b[0m\u001b[1;33m\u001b[0m\u001b[1;33m\u001b[0m\u001b[0m\n\u001b[0m\u001b[0;32m    197\u001b[0m                 \u001b[0mouts\u001b[0m \u001b[1;33m=\u001b[0m \u001b[0mto_list\u001b[0m\u001b[1;33m(\u001b[0m\u001b[0mouts\u001b[0m\u001b[1;33m)\u001b[0m\u001b[1;33m\u001b[0m\u001b[1;33m\u001b[0m\u001b[0m\n\u001b[0;32m    198\u001b[0m                 \u001b[1;32mfor\u001b[0m \u001b[0ml\u001b[0m\u001b[1;33m,\u001b[0m \u001b[0mo\u001b[0m \u001b[1;32min\u001b[0m \u001b[0mzip\u001b[0m\u001b[1;33m(\u001b[0m\u001b[0mout_labels\u001b[0m\u001b[1;33m,\u001b[0m \u001b[0mouts\u001b[0m\u001b[1;33m)\u001b[0m\u001b[1;33m:\u001b[0m\u001b[1;33m\u001b[0m\u001b[1;33m\u001b[0m\u001b[0m\n",
      "\u001b[1;32m~\\anaconda3\\envs\\my-rdkit-env\\lib\\site-packages\\tensorflow_core\\python\\keras\\backend.py\u001b[0m in \u001b[0;36m__call__\u001b[1;34m(self, inputs)\u001b[0m\n\u001b[0;32m   3738\u001b[0m         \u001b[0mvalue\u001b[0m \u001b[1;33m=\u001b[0m \u001b[0mmath_ops\u001b[0m\u001b[1;33m.\u001b[0m\u001b[0mcast\u001b[0m\u001b[1;33m(\u001b[0m\u001b[0mvalue\u001b[0m\u001b[1;33m,\u001b[0m \u001b[0mtensor\u001b[0m\u001b[1;33m.\u001b[0m\u001b[0mdtype\u001b[0m\u001b[1;33m)\u001b[0m\u001b[1;33m\u001b[0m\u001b[1;33m\u001b[0m\u001b[0m\n\u001b[0;32m   3739\u001b[0m       \u001b[0mconverted_inputs\u001b[0m\u001b[1;33m.\u001b[0m\u001b[0mappend\u001b[0m\u001b[1;33m(\u001b[0m\u001b[0mvalue\u001b[0m\u001b[1;33m)\u001b[0m\u001b[1;33m\u001b[0m\u001b[1;33m\u001b[0m\u001b[0m\n\u001b[1;32m-> 3740\u001b[1;33m     \u001b[0moutputs\u001b[0m \u001b[1;33m=\u001b[0m \u001b[0mself\u001b[0m\u001b[1;33m.\u001b[0m\u001b[0m_graph_fn\u001b[0m\u001b[1;33m(\u001b[0m\u001b[1;33m*\u001b[0m\u001b[0mconverted_inputs\u001b[0m\u001b[1;33m)\u001b[0m\u001b[1;33m\u001b[0m\u001b[1;33m\u001b[0m\u001b[0m\n\u001b[0m\u001b[0;32m   3741\u001b[0m \u001b[1;33m\u001b[0m\u001b[0m\n\u001b[0;32m   3742\u001b[0m     \u001b[1;31m# EagerTensor.numpy() will often make a copy to ensure memory safety.\u001b[0m\u001b[1;33m\u001b[0m\u001b[1;33m\u001b[0m\u001b[1;33m\u001b[0m\u001b[0m\n",
      "\u001b[1;32m~\\anaconda3\\envs\\my-rdkit-env\\lib\\site-packages\\tensorflow_core\\python\\eager\\function.py\u001b[0m in \u001b[0;36m__call__\u001b[1;34m(self, *args, **kwargs)\u001b[0m\n\u001b[0;32m   1079\u001b[0m       \u001b[0mTypeError\u001b[0m\u001b[1;33m:\u001b[0m \u001b[0mFor\u001b[0m \u001b[0minvalid\u001b[0m \u001b[0mpositional\u001b[0m\u001b[1;33m/\u001b[0m\u001b[0mkeyword\u001b[0m \u001b[0margument\u001b[0m \u001b[0mcombinations\u001b[0m\u001b[1;33m.\u001b[0m\u001b[1;33m\u001b[0m\u001b[1;33m\u001b[0m\u001b[0m\n\u001b[0;32m   1080\u001b[0m     \"\"\"\n\u001b[1;32m-> 1081\u001b[1;33m     \u001b[1;32mreturn\u001b[0m \u001b[0mself\u001b[0m\u001b[1;33m.\u001b[0m\u001b[0m_call_impl\u001b[0m\u001b[1;33m(\u001b[0m\u001b[0margs\u001b[0m\u001b[1;33m,\u001b[0m \u001b[0mkwargs\u001b[0m\u001b[1;33m)\u001b[0m\u001b[1;33m\u001b[0m\u001b[1;33m\u001b[0m\u001b[0m\n\u001b[0m\u001b[0;32m   1082\u001b[0m \u001b[1;33m\u001b[0m\u001b[0m\n\u001b[0;32m   1083\u001b[0m   \u001b[1;32mdef\u001b[0m \u001b[0m_call_impl\u001b[0m\u001b[1;33m(\u001b[0m\u001b[0mself\u001b[0m\u001b[1;33m,\u001b[0m \u001b[0margs\u001b[0m\u001b[1;33m,\u001b[0m \u001b[0mkwargs\u001b[0m\u001b[1;33m,\u001b[0m \u001b[0mcancellation_manager\u001b[0m\u001b[1;33m=\u001b[0m\u001b[1;32mNone\u001b[0m\u001b[1;33m)\u001b[0m\u001b[1;33m:\u001b[0m\u001b[1;33m\u001b[0m\u001b[1;33m\u001b[0m\u001b[0m\n",
      "\u001b[1;32m~\\anaconda3\\envs\\my-rdkit-env\\lib\\site-packages\\tensorflow_core\\python\\eager\\function.py\u001b[0m in \u001b[0;36m_call_impl\u001b[1;34m(self, args, kwargs, cancellation_manager)\u001b[0m\n\u001b[0;32m   1119\u001b[0m       raise TypeError(\"Keyword arguments {} unknown. Expected {}.\".format(\n\u001b[0;32m   1120\u001b[0m           list(kwargs.keys()), list(self._arg_keywords)))\n\u001b[1;32m-> 1121\u001b[1;33m     \u001b[1;32mreturn\u001b[0m \u001b[0mself\u001b[0m\u001b[1;33m.\u001b[0m\u001b[0m_call_flat\u001b[0m\u001b[1;33m(\u001b[0m\u001b[0margs\u001b[0m\u001b[1;33m,\u001b[0m \u001b[0mself\u001b[0m\u001b[1;33m.\u001b[0m\u001b[0mcaptured_inputs\u001b[0m\u001b[1;33m,\u001b[0m \u001b[0mcancellation_manager\u001b[0m\u001b[1;33m)\u001b[0m\u001b[1;33m\u001b[0m\u001b[1;33m\u001b[0m\u001b[0m\n\u001b[0m\u001b[0;32m   1122\u001b[0m \u001b[1;33m\u001b[0m\u001b[0m\n\u001b[0;32m   1123\u001b[0m   \u001b[1;32mdef\u001b[0m \u001b[0m_filtered_call\u001b[0m\u001b[1;33m(\u001b[0m\u001b[0mself\u001b[0m\u001b[1;33m,\u001b[0m \u001b[0margs\u001b[0m\u001b[1;33m,\u001b[0m \u001b[0mkwargs\u001b[0m\u001b[1;33m)\u001b[0m\u001b[1;33m:\u001b[0m\u001b[1;33m\u001b[0m\u001b[1;33m\u001b[0m\u001b[0m\n",
      "\u001b[1;32m~\\anaconda3\\envs\\my-rdkit-env\\lib\\site-packages\\tensorflow_core\\python\\eager\\function.py\u001b[0m in \u001b[0;36m_call_flat\u001b[1;34m(self, args, captured_inputs, cancellation_manager)\u001b[0m\n\u001b[0;32m   1222\u001b[0m     \u001b[1;32mif\u001b[0m \u001b[0mexecuting_eagerly\u001b[0m\u001b[1;33m:\u001b[0m\u001b[1;33m\u001b[0m\u001b[1;33m\u001b[0m\u001b[0m\n\u001b[0;32m   1223\u001b[0m       flat_outputs = forward_function.call(\n\u001b[1;32m-> 1224\u001b[1;33m           ctx, args, cancellation_manager=cancellation_manager)\n\u001b[0m\u001b[0;32m   1225\u001b[0m     \u001b[1;32melse\u001b[0m\u001b[1;33m:\u001b[0m\u001b[1;33m\u001b[0m\u001b[1;33m\u001b[0m\u001b[0m\n\u001b[0;32m   1226\u001b[0m       \u001b[0mgradient_name\u001b[0m \u001b[1;33m=\u001b[0m \u001b[0mself\u001b[0m\u001b[1;33m.\u001b[0m\u001b[0m_delayed_rewrite_functions\u001b[0m\u001b[1;33m.\u001b[0m\u001b[0mregister\u001b[0m\u001b[1;33m(\u001b[0m\u001b[1;33m)\u001b[0m\u001b[1;33m\u001b[0m\u001b[1;33m\u001b[0m\u001b[0m\n",
      "\u001b[1;32m~\\anaconda3\\envs\\my-rdkit-env\\lib\\site-packages\\tensorflow_core\\python\\eager\\function.py\u001b[0m in \u001b[0;36mcall\u001b[1;34m(self, ctx, args, cancellation_manager)\u001b[0m\n\u001b[0;32m    509\u001b[0m               \u001b[0minputs\u001b[0m\u001b[1;33m=\u001b[0m\u001b[0margs\u001b[0m\u001b[1;33m,\u001b[0m\u001b[1;33m\u001b[0m\u001b[1;33m\u001b[0m\u001b[0m\n\u001b[0;32m    510\u001b[0m               \u001b[0mattrs\u001b[0m\u001b[1;33m=\u001b[0m\u001b[1;33m(\u001b[0m\u001b[1;34m\"executor_type\"\u001b[0m\u001b[1;33m,\u001b[0m \u001b[0mexecutor_type\u001b[0m\u001b[1;33m,\u001b[0m \u001b[1;34m\"config_proto\"\u001b[0m\u001b[1;33m,\u001b[0m \u001b[0mconfig\u001b[0m\u001b[1;33m)\u001b[0m\u001b[1;33m,\u001b[0m\u001b[1;33m\u001b[0m\u001b[1;33m\u001b[0m\u001b[0m\n\u001b[1;32m--> 511\u001b[1;33m               ctx=ctx)\n\u001b[0m\u001b[0;32m    512\u001b[0m         \u001b[1;32melse\u001b[0m\u001b[1;33m:\u001b[0m\u001b[1;33m\u001b[0m\u001b[1;33m\u001b[0m\u001b[0m\n\u001b[0;32m    513\u001b[0m           outputs = execute.execute_with_cancellation(\n",
      "\u001b[1;32m~\\anaconda3\\envs\\my-rdkit-env\\lib\\site-packages\\tensorflow_core\\python\\eager\\execute.py\u001b[0m in \u001b[0;36mquick_execute\u001b[1;34m(op_name, num_outputs, inputs, attrs, ctx, name)\u001b[0m\n\u001b[0;32m     59\u001b[0m     tensors = pywrap_tensorflow.TFE_Py_Execute(ctx._handle, device_name,\n\u001b[0;32m     60\u001b[0m                                                \u001b[0mop_name\u001b[0m\u001b[1;33m,\u001b[0m \u001b[0minputs\u001b[0m\u001b[1;33m,\u001b[0m \u001b[0mattrs\u001b[0m\u001b[1;33m,\u001b[0m\u001b[1;33m\u001b[0m\u001b[1;33m\u001b[0m\u001b[0m\n\u001b[1;32m---> 61\u001b[1;33m                                                num_outputs)\n\u001b[0m\u001b[0;32m     62\u001b[0m   \u001b[1;32mexcept\u001b[0m \u001b[0mcore\u001b[0m\u001b[1;33m.\u001b[0m\u001b[0m_NotOkStatusException\u001b[0m \u001b[1;32mas\u001b[0m \u001b[0me\u001b[0m\u001b[1;33m:\u001b[0m\u001b[1;33m\u001b[0m\u001b[1;33m\u001b[0m\u001b[0m\n\u001b[0;32m     63\u001b[0m     \u001b[1;32mif\u001b[0m \u001b[0mname\u001b[0m \u001b[1;32mis\u001b[0m \u001b[1;32mnot\u001b[0m \u001b[1;32mNone\u001b[0m\u001b[1;33m:\u001b[0m\u001b[1;33m\u001b[0m\u001b[1;33m\u001b[0m\u001b[0m\n",
      "\u001b[1;31mKeyboardInterrupt\u001b[0m: "
     ]
    }
   ],
   "source": [
    "model.compile(loss=\"mse\", optimizer=\"adam\")\n",
    "callback = EarlyStopping(monitor=\"loss\", patience=10, verbose=1, mode=\"auto\")\n",
    "history = model.fit(X_train, y_train, epochs=1000, batch_size=128, validation_split=0.1, callbacks=[callback])"
   ]
  },
  {
   "cell_type": "code",
   "execution_count": null,
   "metadata": {},
   "outputs": [],
   "source": [
    "results = model.evaluate(X_test, y_test)\n",
    "print(results)"
   ]
  },
  {
   "cell_type": "code",
   "execution_count": null,
   "metadata": {},
   "outputs": [],
   "source": [
    "import matplotlib.pyplot as plt\n",
    "\n",
    "history_dict = history.history\n",
    "print(history_dict.keys())\n",
    "\n",
    "loss_values = history_dict['loss']\n",
    "val_loss_values = history_dict['val_loss']\n",
    "\n",
    "epochs = range(1, len(loss_values) + 1)\n",
    "\n",
    "plt.plot(epochs, loss_values, 'b', color='k', label='Training loss')\n",
    "plt.plot(epochs, val_loss_values, 'b', color='b', label='Validation loss')\n",
    "plt.title('Training and validation loss')\n",
    "plt.xlabel('Epochs')\n",
    "plt.ylabel('Loss')\n",
    "plt.legend()\n",
    "\n",
    "plt.show()"
   ]
  }
 ],
 "metadata": {
  "kernelspec": {
   "display_name": "Python 3",
   "language": "python",
   "name": "python3"
  },
  "language_info": {
   "codemirror_mode": {
    "name": "ipython",
    "version": 3
   },
   "file_extension": ".py",
   "mimetype": "text/x-python",
   "name": "python",
   "nbconvert_exporter": "python",
   "pygments_lexer": "ipython3",
   "version": "3.7.7"
  }
 },
 "nbformat": 4,
 "nbformat_minor": 4
}
